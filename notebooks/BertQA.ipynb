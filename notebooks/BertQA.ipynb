{
  "nbformat": 4,
  "nbformat_minor": 0,
  "metadata": {
    "accelerator": "GPU",
    "colab": {
      "name": "CDQA.ipynb",
      "provenance": [],
      "collapsed_sections": []
    },
    "kernelspec": {
      "display_name": "Python 3",
      "name": "python3"
    }
  },
  "cells": [
    {
      "cell_type": "code",
      "metadata": {
        "colab": {
          "base_uri": "https://localhost:8080/",
          "height": 1000
        },
        "id": "U5jU2a12LJjU",
        "outputId": "a56b56e7-6253-4e8a-8df3-2821504b913d"
      },
      "source": [
        "!pip install cdqa"
      ],
      "execution_count": 7,
      "outputs": [
        {
          "output_type": "stream",
          "text": [
            "Collecting cdqa\n",
            "\u001b[?25l  Downloading https://files.pythonhosted.org/packages/39/f5/af831b7ee653aa6bace99e39ec6b2754b1adb10bb60a1296f5e16f1f24ee/cdqa-1.3.9.tar.gz (45kB)\n",
            "\u001b[K     |████████████████████████████████| 51kB 7.0MB/s \n",
            "\u001b[?25hCollecting Flask==1.1.1\n",
            "\u001b[?25l  Downloading https://files.pythonhosted.org/packages/9b/93/628509b8d5dc749656a9641f4caf13540e2cdec85276964ff8f43bbb1d3b/Flask-1.1.1-py2.py3-none-any.whl (94kB)\n",
            "\u001b[K     |████████████████████████████████| 102kB 6.4MB/s \n",
            "\u001b[?25hCollecting flask_cors==3.0.8\n",
            "  Downloading https://files.pythonhosted.org/packages/78/38/e68b11daa5d613e3a91e4bf3da76c94ac9ee0d9cd515af9c1ab80d36f709/Flask_Cors-3.0.8-py2.py3-none-any.whl\n",
            "Collecting joblib==0.13.2\n",
            "\u001b[?25l  Downloading https://files.pythonhosted.org/packages/cd/c1/50a758e8247561e58cb87305b1e90b171b8c767b15b12a1734001f41d356/joblib-0.13.2-py2.py3-none-any.whl (278kB)\n",
            "\u001b[K     |████████████████████████████████| 286kB 24.5MB/s \n",
            "\u001b[?25hCollecting pandas==0.25.0\n",
            "\u001b[?25l  Downloading https://files.pythonhosted.org/packages/1d/9a/7eb9952f4b4d73fbd75ad1d5d6112f407e695957444cb695cbb3cdab918a/pandas-0.25.0-cp36-cp36m-manylinux1_x86_64.whl (10.5MB)\n",
            "\u001b[K     |████████████████████████████████| 10.5MB 49.3MB/s \n",
            "\u001b[?25hCollecting prettytable==0.7.2\n",
            "  Downloading https://files.pythonhosted.org/packages/ef/30/4b0746848746ed5941f052479e7c23d2b56d174b82f4fd34a25e389831f5/prettytable-0.7.2.tar.bz2\n",
            "Collecting transformers==2.1.1\n",
            "\u001b[?25l  Downloading https://files.pythonhosted.org/packages/fd/f9/51824e40f0a23a49eab4fcaa45c1c797cbf9761adedd0b558dab7c958b34/transformers-2.1.1-py3-none-any.whl (311kB)\n",
            "\u001b[K     |████████████████████████████████| 317kB 48.8MB/s \n",
            "\u001b[?25hCollecting scikit_learn==0.21.2\n",
            "\u001b[?25l  Downloading https://files.pythonhosted.org/packages/85/04/49633f490f726da6e454fddc8e938bbb5bfed2001681118d3814c219b723/scikit_learn-0.21.2-cp36-cp36m-manylinux1_x86_64.whl (6.7MB)\n",
            "\u001b[K     |████████████████████████████████| 6.7MB 43.8MB/s \n",
            "\u001b[?25hCollecting tika==1.19\n",
            "  Downloading https://files.pythonhosted.org/packages/10/75/b566e446ffcf292f10c8d84c15a3d91615fe3d7ca8072a17c949d4e84b66/tika-1.19.tar.gz\n",
            "Collecting torch==1.2.0\n",
            "\u001b[?25l  Downloading https://files.pythonhosted.org/packages/30/57/d5cceb0799c06733eefce80c395459f28970ebb9e896846ce96ab579a3f1/torch-1.2.0-cp36-cp36m-manylinux1_x86_64.whl (748.8MB)\n",
            "\u001b[K     |████████████████████████████████| 748.9MB 21kB/s \n",
            "\u001b[?25hCollecting markdown==3.1.1\n",
            "\u001b[?25l  Downloading https://files.pythonhosted.org/packages/c0/4e/fd492e91abdc2d2fcb70ef453064d980688762079397f779758e055f6575/Markdown-3.1.1-py2.py3-none-any.whl (87kB)\n",
            "\u001b[K     |████████████████████████████████| 92kB 13.0MB/s \n",
            "\u001b[?25hCollecting tqdm==4.32.2\n",
            "\u001b[?25l  Downloading https://files.pythonhosted.org/packages/9f/3d/7a6b68b631d2ab54975f3a4863f3c4e9b26445353264ef01f465dc9b0208/tqdm-4.32.2-py2.py3-none-any.whl (50kB)\n",
            "\u001b[K     |████████████████████████████████| 51kB 8.0MB/s \n",
            "\u001b[?25hCollecting wget==3.2\n",
            "  Downloading https://files.pythonhosted.org/packages/47/6a/62e288da7bcda82b935ff0c6cfe542970f04e29c756b0e147251b2fb251f/wget-3.2.zip\n",
            "Requirement already satisfied: Jinja2>=2.10.1 in /usr/local/lib/python3.6/dist-packages (from Flask==1.1.1->cdqa) (2.11.2)\n",
            "Requirement already satisfied: Werkzeug>=0.15 in /usr/local/lib/python3.6/dist-packages (from Flask==1.1.1->cdqa) (1.0.1)\n",
            "Requirement already satisfied: itsdangerous>=0.24 in /usr/local/lib/python3.6/dist-packages (from Flask==1.1.1->cdqa) (1.1.0)\n",
            "Requirement already satisfied: click>=5.1 in /usr/local/lib/python3.6/dist-packages (from Flask==1.1.1->cdqa) (7.1.2)\n",
            "Requirement already satisfied: Six in /usr/local/lib/python3.6/dist-packages (from flask_cors==3.0.8->cdqa) (1.15.0)\n",
            "Requirement already satisfied: python-dateutil>=2.6.1 in /usr/local/lib/python3.6/dist-packages (from pandas==0.25.0->cdqa) (2.8.1)\n",
            "Requirement already satisfied: numpy>=1.13.3 in /usr/local/lib/python3.6/dist-packages (from pandas==0.25.0->cdqa) (1.18.5)\n",
            "Requirement already satisfied: pytz>=2017.2 in /usr/local/lib/python3.6/dist-packages (from pandas==0.25.0->cdqa) (2018.9)\n",
            "Requirement already satisfied: regex in /usr/local/lib/python3.6/dist-packages (from transformers==2.1.1->cdqa) (2019.12.20)\n",
            "Collecting sacremoses\n",
            "\u001b[?25l  Downloading https://files.pythonhosted.org/packages/7d/34/09d19aff26edcc8eb2a01bed8e98f13a1537005d31e95233fd48216eed10/sacremoses-0.0.43.tar.gz (883kB)\n",
            "\u001b[K     |████████████████████████████████| 890kB 42.9MB/s \n",
            "\u001b[?25hCollecting sentencepiece\n",
            "\u001b[?25l  Downloading https://files.pythonhosted.org/packages/e5/2d/6d4ca4bef9a67070fa1cac508606328329152b1df10bdf31fb6e4e727894/sentencepiece-0.1.94-cp36-cp36m-manylinux2014_x86_64.whl (1.1MB)\n",
            "\u001b[K     |████████████████████████████████| 1.1MB 43.8MB/s \n",
            "\u001b[?25hRequirement already satisfied: requests in /usr/local/lib/python3.6/dist-packages (from transformers==2.1.1->cdqa) (2.23.0)\n",
            "Collecting boto3\n",
            "\u001b[?25l  Downloading https://files.pythonhosted.org/packages/72/10/d3728714344aadf6d2859c065058d165682f013de6900c35ca8cfc8eb107/boto3-1.16.31.tar.gz (97kB)\n",
            "\u001b[K     |████████████████████████████████| 102kB 13.5MB/s \n",
            "\u001b[?25hRequirement already satisfied: scipy>=0.17.0 in /usr/local/lib/python3.6/dist-packages (from scikit_learn==0.21.2->cdqa) (1.4.1)\n",
            "Requirement already satisfied: setuptools in /usr/local/lib/python3.6/dist-packages (from tika==1.19->cdqa) (50.3.2)\n",
            "Requirement already satisfied: MarkupSafe>=0.23 in /usr/local/lib/python3.6/dist-packages (from Jinja2>=2.10.1->Flask==1.1.1->cdqa) (1.1.1)\n",
            "Requirement already satisfied: certifi>=2017.4.17 in /usr/local/lib/python3.6/dist-packages (from requests->transformers==2.1.1->cdqa) (2020.11.8)\n",
            "Requirement already satisfied: idna<3,>=2.5 in /usr/local/lib/python3.6/dist-packages (from requests->transformers==2.1.1->cdqa) (2.10)\n",
            "Requirement already satisfied: urllib3!=1.25.0,!=1.25.1,<1.26,>=1.21.1 in /usr/local/lib/python3.6/dist-packages (from requests->transformers==2.1.1->cdqa) (1.24.3)\n",
            "Requirement already satisfied: chardet<4,>=3.0.2 in /usr/local/lib/python3.6/dist-packages (from requests->transformers==2.1.1->cdqa) (3.0.4)\n",
            "Collecting botocore<1.20.0,>=1.19.31\n",
            "\u001b[?25l  Downloading https://files.pythonhosted.org/packages/95/df/b4268d55a03654ca97a33b58cd681fb8ccbc7040c7604a5b465c38f17bc4/botocore-1.19.31-py2.py3-none-any.whl (7.0MB)\n",
            "\u001b[K     |████████████████████████████████| 7.0MB 45.2MB/s \n",
            "\u001b[?25hCollecting jmespath<1.0.0,>=0.7.1\n",
            "  Downloading https://files.pythonhosted.org/packages/07/cb/5f001272b6faeb23c1c9e0acc04d48eaaf5c862c17709d20e3469c6e0139/jmespath-0.10.0-py2.py3-none-any.whl\n",
            "Collecting s3transfer<0.4.0,>=0.3.0\n",
            "\u001b[?25l  Downloading https://files.pythonhosted.org/packages/69/79/e6afb3d8b0b4e96cefbdc690f741d7dd24547ff1f94240c997a26fa908d3/s3transfer-0.3.3-py2.py3-none-any.whl (69kB)\n",
            "\u001b[K     |████████████████████████████████| 71kB 11.2MB/s \n",
            "\u001b[?25hBuilding wheels for collected packages: cdqa, prettytable, tika, wget, sacremoses, boto3\n",
            "  Building wheel for cdqa (setup.py) ... \u001b[?25l\u001b[?25hdone\n",
            "  Created wheel for cdqa: filename=cdqa-1.3.9-cp36-none-any.whl size=47640 sha256=bd445ae5442e1f00e06bd0e189f7d17d702403765a9b89bdcbe89387985f3b02\n",
            "  Stored in directory: /root/.cache/pip/wheels/8b/9a/68/d3f7651ea29c30d1bebc9e946bf5a8cf922e1c86fb6b8a33d9\n",
            "  Building wheel for prettytable (setup.py) ... \u001b[?25l\u001b[?25hdone\n",
            "  Created wheel for prettytable: filename=prettytable-0.7.2-cp36-none-any.whl size=13700 sha256=d24bcff7fffc74695c594236380f727a75dc19e0c12d749390b6d8ca3e82d8e0\n",
            "  Stored in directory: /root/.cache/pip/wheels/80/34/1c/3967380d9676d162cb59513bd9dc862d0584e045a162095606\n",
            "  Building wheel for tika (setup.py) ... \u001b[?25l\u001b[?25hdone\n",
            "  Created wheel for tika: filename=tika-1.19-cp36-none-any.whl size=29223 sha256=61ed3e9f866bf65b5a7f3281a446172b390dbd12b3f04355c0dbda1036236f8b\n",
            "  Stored in directory: /root/.cache/pip/wheels/b4/db/8a/3a3f0c0725448eaa92703e3dda71e29dc13a119ff6c1036848\n",
            "  Building wheel for wget (setup.py) ... \u001b[?25l\u001b[?25hdone\n",
            "  Created wheel for wget: filename=wget-3.2-cp36-none-any.whl size=9682 sha256=29ab48a685adebc0e720d9c8ab40874bd49dbbbd9cf96ff8276d7ca6a93837fa\n",
            "  Stored in directory: /root/.cache/pip/wheels/40/15/30/7d8f7cea2902b4db79e3fea550d7d7b85ecb27ef992b618f3f\n",
            "  Building wheel for sacremoses (setup.py) ... \u001b[?25l\u001b[?25hdone\n",
            "  Created wheel for sacremoses: filename=sacremoses-0.0.43-cp36-none-any.whl size=893257 sha256=86c1618eb53754a4c621c63f437083d6fc7c3792d3f1cee34e222a28a7cd1377\n",
            "  Stored in directory: /root/.cache/pip/wheels/29/3c/fd/7ce5c3f0666dab31a50123635e6fb5e19ceb42ce38d4e58f45\n",
            "  Building wheel for boto3 (setup.py) ... \u001b[?25l\u001b[?25hdone\n",
            "  Created wheel for boto3: filename=boto3-1.16.31-py2.py3-none-any.whl size=128450 sha256=e7b4c9d672ab9b6e7886547b84f46fcac3be4bf988da41c39064d0a85f27e606\n",
            "  Stored in directory: /root/.cache/pip/wheels/d7/49/8d/c7b244e2b89911f7eb4d8db3b2ec5700b443e280fa68b6f9a0\n",
            "Successfully built cdqa prettytable tika wget sacremoses boto3\n",
            "\u001b[31mERROR: torchvision 0.8.1+cu101 has requirement torch==1.7.0, but you'll have torch 1.2.0 which is incompatible.\u001b[0m\n",
            "\u001b[31mERROR: spacy 2.2.4 has requirement tqdm<5.0.0,>=4.38.0, but you'll have tqdm 4.32.2 which is incompatible.\u001b[0m\n",
            "\u001b[31mERROR: google-colab 1.0.0 has requirement pandas~=1.1.0; python_version >= \"3.0\", but you'll have pandas 0.25.0 which is incompatible.\u001b[0m\n",
            "\u001b[31mERROR: fbprophet 0.7.1 has requirement pandas>=1.0.4, but you'll have pandas 0.25.0 which is incompatible.\u001b[0m\n",
            "\u001b[31mERROR: fbprophet 0.7.1 has requirement tqdm>=4.36.1, but you'll have tqdm 4.32.2 which is incompatible.\u001b[0m\n",
            "\u001b[31mERROR: botocore 1.19.31 has requirement urllib3<1.27,>=1.25.4; python_version != \"3.4\", but you'll have urllib3 1.24.3 which is incompatible.\u001b[0m\n",
            "Installing collected packages: Flask, flask-cors, joblib, pandas, prettytable, tqdm, sacremoses, sentencepiece, jmespath, botocore, s3transfer, boto3, transformers, scikit-learn, tika, torch, markdown, wget, cdqa\n",
            "  Found existing installation: Flask 1.1.2\n",
            "    Uninstalling Flask-1.1.2:\n",
            "      Successfully uninstalled Flask-1.1.2\n",
            "  Found existing installation: joblib 0.17.0\n",
            "    Uninstalling joblib-0.17.0:\n",
            "      Successfully uninstalled joblib-0.17.0\n",
            "  Found existing installation: pandas 1.1.4\n",
            "    Uninstalling pandas-1.1.4:\n",
            "      Successfully uninstalled pandas-1.1.4\n",
            "  Found existing installation: prettytable 2.0.0\n",
            "    Uninstalling prettytable-2.0.0:\n",
            "      Successfully uninstalled prettytable-2.0.0\n",
            "  Found existing installation: tqdm 4.41.1\n",
            "    Uninstalling tqdm-4.41.1:\n",
            "      Successfully uninstalled tqdm-4.41.1\n",
            "  Found existing installation: scikit-learn 0.22.2.post1\n",
            "    Uninstalling scikit-learn-0.22.2.post1:\n",
            "      Successfully uninstalled scikit-learn-0.22.2.post1\n",
            "  Found existing installation: torch 1.7.0+cu101\n",
            "    Uninstalling torch-1.7.0+cu101:\n",
            "      Successfully uninstalled torch-1.7.0+cu101\n",
            "  Found existing installation: Markdown 3.3.3\n",
            "    Uninstalling Markdown-3.3.3:\n",
            "      Successfully uninstalled Markdown-3.3.3\n",
            "Successfully installed Flask-1.1.1 boto3-1.16.31 botocore-1.19.31 cdqa-1.3.9 flask-cors-3.0.8 jmespath-0.10.0 joblib-0.13.2 markdown-3.1.1 pandas-0.25.0 prettytable-0.7.2 s3transfer-0.3.3 sacremoses-0.0.43 scikit-learn-0.21.2 sentencepiece-0.1.94 tika-1.19 torch-1.2.0 tqdm-4.32.2 transformers-2.1.1 wget-3.2\n"
          ],
          "name": "stdout"
        },
        {
          "output_type": "display_data",
          "data": {
            "application/vnd.colab-display-data+json": {
              "pip_warning": {
                "packages": [
                  "pandas"
                ]
              }
            }
          },
          "metadata": {
            "tags": []
          }
        }
      ]
    },
    {
      "cell_type": "code",
      "metadata": {
        "colab": {
          "base_uri": "https://localhost:8080/"
        },
        "id": "G0XmVDnjLYPv",
        "outputId": "c889052c-c65f-471b-cf1f-9af4a8efdb21"
      },
      "source": [
        "!git clone https://github.com/jzhan1017/amazonqa.git"
      ],
      "execution_count": 1,
      "outputs": [
        {
          "output_type": "stream",
          "text": [
            "fatal: destination path 'amazonqa' already exists and is not an empty directory.\n"
          ],
          "name": "stdout"
        }
      ]
    },
    {
      "cell_type": "code",
      "metadata": {
        "id": "_w85BlInP4IY"
      },
      "source": [
        "import json\n",
        "\n",
        "train = []\n",
        "for line in open('./amazonqa/datasets/train-qar_reduced.jsonl', 'r'):\n",
        "    line = json.loads(line)\n",
        "    train.append(line)\n",
        "\n",
        "val = []\n",
        "for line in open('./amazonqa/datasets/val-qar_reduced.jsonl', 'r'):\n",
        "    line = json.loads(line)\n",
        "    val.append(line)\n",
        "\n",
        "test = []\n",
        "for line in open('./amazonqa/datasets/test-qar_reduced.jsonl', 'r'):\n",
        "    line = json.loads(line)\n",
        "    test.append(line)"
      ],
      "execution_count": 2,
      "outputs": []
    },
    {
      "cell_type": "code",
      "metadata": {
        "id": "8QaDfL3-P8x2"
      },
      "source": [
        "import pandas as pd\n",
        "\n",
        "train_df = pd.DataFrame(train)\n",
        "val_df = pd.DataFrame(val)\n",
        "test_df = pd.DataFrame(test)"
      ],
      "execution_count": 3,
      "outputs": []
    },
    {
      "cell_type": "code",
      "metadata": {
        "id": "X4QYKLl59217"
      },
      "source": [
        "train_df = train_df[train_df['is_answerable']==0]\n",
        "val_df = val_df[val_df['is_answerable']==0]\n",
        "test_df = test_df[test_df['is_answerable']==0]"
      ],
      "execution_count": 4,
      "outputs": []
    },
    {
      "cell_type": "code",
      "metadata": {
        "id": "iHl0XthfQPUa"
      },
      "source": [
        "df_train = train_df[['questionText','review_snippets']]\n",
        "df_train = df_train.rename(columns={\"questionText\": \"title\", \"review_snippets\": \"paragraphs\"})\n",
        "df_val = val_df[['questionText','review_snippets']]\n",
        "df_val = df_val.rename(columns={\"questionText\": \"title\", \"review_snippets\": \"paragraphs\"})\n",
        "df_test = test_df[['questionText','review_snippets']]\n",
        "df_test = df_test.rename(columns={\"questionText\": \"title\", \"review_snippets\": \"paragraphs\"})\n",
        "df_all = pd.concat([df_train, df_val, df_test])"
      ],
      "execution_count": 5,
      "outputs": []
    },
    {
      "cell_type": "code",
      "metadata": {
        "colab": {
          "base_uri": "https://localhost:8080/"
        },
        "id": "F0hgp6zlRJ30",
        "outputId": "237dbf46-c17e-460b-c23b-9d77dc021180"
      },
      "source": [
        "from cdqa.utils.download import download_model\n",
        "\n",
        "download_model('distilbert-squad_1.1')"
      ],
      "execution_count": 6,
      "outputs": [
        {
          "output_type": "stream",
          "text": [
            "\n",
            "Downloading trained model...\n"
          ],
          "name": "stdout"
        }
      ]
    },
    {
      "cell_type": "code",
      "metadata": {
        "colab": {
          "base_uri": "https://localhost:8080/"
        },
        "id": "fYqiOxobRXRv",
        "outputId": "ebf2cf62-ad96-48cc-bd4e-89a12ccdcaa5"
      },
      "source": [
        "import pandas as pd\n",
        "from ast import literal_eval\n",
        "from cdqa.pipeline import QAPipeline\n",
        "\n",
        "cdqa_pipeline = QAPipeline(reader='distilbert_qa.joblib')\n",
        "cdqa_pipeline.fit_retriever(df=df_all)"
      ],
      "execution_count": 7,
      "outputs": [
        {
          "output_type": "stream",
          "text": [
            "/usr/local/lib/python3.6/dist-packages/tqdm/autonotebook/__init__.py:18: TqdmExperimentalWarning: Using `tqdm.autonotebook.tqdm` in notebook mode. Use `tqdm.tqdm` instead to force console mode (e.g. in jupyter console)\n",
            "  \" (e.g. in jupyter console)\", TqdmExperimentalWarning)\n",
            "100%|██████████| 231508/231508 [00:00<00:00, 16896913.54B/s]\n"
          ],
          "name": "stderr"
        },
        {
          "output_type": "execute_result",
          "data": {
            "text/plain": [
              "QAPipeline(reader=BertQA(adam_epsilon=1e-08,\n",
              "                         bert_model='distilbert-base-uncased',\n",
              "                         do_lower_case=True, fp16=False,\n",
              "                         gradient_accumulation_steps=1, learning_rate=5e-05,\n",
              "                         local_rank=-1, loss_scale=0, max_answer_length=30,\n",
              "                         n_best_size=20, no_cuda=False,\n",
              "                         null_score_diff_threshold=0.0, num_train_epochs=3.0,\n",
              "                         output_dir=None, predict_batch_size=8, seed=42,\n",
              "                         server_ip='', ser...size=8,\n",
              "                         verbose_logging=False, version_2_with_negative=False,\n",
              "                         warmup_proportion=0.1, warmup_steps=0),\n",
              "           retrieve_by_doc=False,\n",
              "           retriever=BM25Retriever(b=0.75, floor=None, k1=2.0, lowercase=True,\n",
              "                                   max_df=0.85, min_df=2, ngram_range=(1, 2),\n",
              "                                   preprocessor=None, stop_words='english',\n",
              "                                   token_pattern='(?u)\\\\b\\\\w\\\\w+\\\\b',\n",
              "                                   tokenizer=None, top_n=20, verbose=False,\n",
              "                                   vocabulary=None))"
            ]
          },
          "metadata": {
            "tags": []
          },
          "execution_count": 7
        }
      ]
    },
    {
      "cell_type": "code",
      "metadata": {
        "colab": {
          "base_uri": "https://localhost:8080/"
        },
        "id": "J83Lks3KRjvs",
        "outputId": "1050b52a-c18f-4522-84d8-2813b53852d3"
      },
      "source": [
        "from tqdm import tqdm\n",
        "\n",
        "predictions = []\n",
        "questions = df_all.title\n",
        "for question in tqdm(questions):\n",
        "  predictions.append(cdqa_pipeline.predict(query=question))"
      ],
      "execution_count": 8,
      "outputs": [
        {
          "output_type": "stream",
          "text": [
            "100%|██████████| 1546/1546 [12:53<00:00,  1.97it/s]\n"
          ],
          "name": "stderr"
        }
      ]
    },
    {
      "cell_type": "code",
      "metadata": {
        "colab": {
          "base_uri": "https://localhost:8080/"
        },
        "id": "i8LZx19MlSnz",
        "outputId": "201960ba-d088-4c71-cbbd-1de8fed35ba7"
      },
      "source": [
        "query = 'does it work with Win7?'\n",
        "prediction = cdqa_pipeline.predict(query)\n",
        "print('query: {}'.format(query))\n",
        "print('answer: {}'.format(prediction[0]))\n",
        "print('title: {}'.format(prediction[1]))\n",
        "print('paragraph: {}'.format(prediction[2]))"
      ],
      "execution_count": 9,
      "outputs": [
        {
          "output_type": "stream",
          "text": [
            "query: does it work with Win7?\n",
            "answer: This simply does not work\n",
            "title: It will work fine with Android Box Minix Neo X8H and Ipad Mini 2?\n",
            "paragraph: I bought this from ThinkGeek and made 2 mistakes. I spent $10 more than I should have, and I though I could find something better/cleaner than my Jerry rigged X-Box 360 controller. This simply does not work. I have been messing around for the past 4 hours trying every possible configuration and it just does not work as advertised.\n"
          ],
          "name": "stdout"
        }
      ]
    },
    {
      "cell_type": "code",
      "metadata": {
        "colab": {
          "base_uri": "https://localhost:8080/",
          "height": 1000
        },
        "id": "J6QmN5vmYPBF",
        "outputId": "38706c6f-3f5f-4cad-819a-d81358243fd5"
      },
      "source": [
        "result = pd.DataFrame()\n",
        "result['question'] = train_df.questionText.append(val_df.questionText).append(test_df.questionText)\n",
        "result['prediction'] = [i[0] for i in predictions]\n",
        "result['answer'] = [[i['answerText'] for i in j] for j in train_df.answers] \\\n",
        "                    +[[i['answerText'] for i in j] for j in val_df.answers] \\\n",
        "                    +[[i['answerText'] for i in j] for j in test_df.answers]\n",
        "result"
      ],
      "execution_count": 10,
      "outputs": [
        {
          "output_type": "execute_result",
          "data": {
            "text/html": [
              "<div>\n",
              "<style scoped>\n",
              "    .dataframe tbody tr th:only-of-type {\n",
              "        vertical-align: middle;\n",
              "    }\n",
              "\n",
              "    .dataframe tbody tr th {\n",
              "        vertical-align: top;\n",
              "    }\n",
              "\n",
              "    .dataframe thead th {\n",
              "        text-align: right;\n",
              "    }\n",
              "</style>\n",
              "<table border=\"1\" class=\"dataframe\">\n",
              "  <thead>\n",
              "    <tr style=\"text-align: right;\">\n",
              "      <th></th>\n",
              "      <th>question</th>\n",
              "      <th>prediction</th>\n",
              "      <th>answer</th>\n",
              "    </tr>\n",
              "  </thead>\n",
              "  <tbody>\n",
              "    <tr>\n",
              "      <th>0</th>\n",
              "      <td>Will this mouse work with Windows 8.1? I have ...</td>\n",
              "      <td>This game will not</td>\n",
              "      <td>[Yes, it works without any problem... Tested f...</td>\n",
              "    </tr>\n",
              "    <tr>\n",
              "      <th>5</th>\n",
              "      <td>Does it work on laptops windows 8</td>\n",
              "      <td>it does not work with windows 7</td>\n",
              "      <td>[Yes it does, I run it in Windows 8 myself. It...</td>\n",
              "    </tr>\n",
              "    <tr>\n",
              "      <th>6</th>\n",
              "      <td>This item as a combo is $157.99. They are sepa...</td>\n",
              "      <td>MX800</td>\n",
              "      <td>[Have the same question.  Even Best Buy has th...</td>\n",
              "    </tr>\n",
              "    <tr>\n",
              "      <th>18</th>\n",
              "      <td>I am temporarily living in Europe. If I buy th...</td>\n",
              "      <td>i live in Europe. will this playstation work p...</td>\n",
              "      <td>[Yes, in fact it's the only way to play on US ...</td>\n",
              "    </tr>\n",
              "    <tr>\n",
              "      <th>25</th>\n",
              "      <td>Why is this game $67.99?? This game is 2.5 yea...</td>\n",
              "      <td>so it would work on win.7 thought it would be ...</td>\n",
              "      <td>[It's most likely because Nintendo is no longe...</td>\n",
              "    </tr>\n",
              "    <tr>\n",
              "      <th>26</th>\n",
              "      <td>Is the LED dimmable?</td>\n",
              "      <td>bigger than i expected</td>\n",
              "      <td>[no, It can be turned OFF, but no, it can't be...</td>\n",
              "    </tr>\n",
              "    <tr>\n",
              "      <th>30</th>\n",
              "      <td>Will this work with the Street Fighter Anniver...</td>\n",
              "      <td>I wouldn't recomend any other type of fight st...</td>\n",
              "      <td>[Yes, Don't know for sure, might need a specia...</td>\n",
              "    </tr>\n",
              "    <tr>\n",
              "      <th>31</th>\n",
              "      <td>will it work on gta v?</td>\n",
              "      <td>once u get n install the right driver</td>\n",
              "      <td>[I had the same question when I bought it but ...</td>\n",
              "    </tr>\n",
              "    <tr>\n",
              "      <th>38</th>\n",
              "      <td>MadCatz Saitek Cyborg RAT 7 Black/6400DPI? Hel...</td>\n",
              "      <td>empty</td>\n",
              "      <td>[The Rat 9 that i bought the other day just ca...</td>\n",
              "    </tr>\n",
              "    <tr>\n",
              "      <th>39</th>\n",
              "      <td>Pid and model number</td>\n",
              "      <td>3</td>\n",
              "      <td>[MN#:  A-00060PN#:  881-000215I think these ar...</td>\n",
              "    </tr>\n",
              "    <tr>\n",
              "      <th>42</th>\n",
              "      <td>Whats the difference between MX GP and MX GP 14?</td>\n",
              "      <td>Much better options</td>\n",
              "      <td>[I thing mxgp 14 is the US version. Mxgp origi...</td>\n",
              "    </tr>\n",
              "    <tr>\n",
              "      <th>49</th>\n",
              "      <td>Turtle Beach Call Of Duty MW3 Ear Force Charli...</td>\n",
              "      <td>19.95</td>\n",
              "      <td>[Yes for use on the laptop or xbox.. For the T...</td>\n",
              "    </tr>\n",
              "    <tr>\n",
              "      <th>58</th>\n",
              "      <td>any idea where i can find the instructions for...</td>\n",
              "      <td>2 inner screw mount points</td>\n",
              "      <td>[Have you checked the add on amazon  I believe...</td>\n",
              "    </tr>\n",
              "    <tr>\n",
              "      <th>63</th>\n",
              "      <td>Do the new avenger heroes work on this portal ...</td>\n",
              "      <td>This has been a huge battery saver for us</td>\n",
              "      <td>[You need to buy the new game Disney 2.0 which...</td>\n",
              "    </tr>\n",
              "    <tr>\n",
              "      <th>66</th>\n",
              "      <td>Is this a physical copy or a download?</td>\n",
              "      <td>download</td>\n",
              "      <td>[P C    C D, It's a physical copy (hence, the ...</td>\n",
              "    </tr>\n",
              "    <tr>\n",
              "      <th>76</th>\n",
              "      <td>I have Sony Z3 since its a clip is it going to...</td>\n",
              "      <td>px22</td>\n",
              "      <td>[It sure does. But it rests lightly enough on ...</td>\n",
              "    </tr>\n",
              "    <tr>\n",
              "      <th>79</th>\n",
              "      <td>can i play offline with this product ?</td>\n",
              "      <td>Association is pretty good</td>\n",
              "      <td>[Yes, Yes, Yes, Yes]</td>\n",
              "    </tr>\n",
              "    <tr>\n",
              "      <th>86</th>\n",
              "      <td>What exactly is this item and how does one use...</td>\n",
              "      <td>flight games</td>\n",
              "      <td>[You use this game time card to renew your mon...</td>\n",
              "    </tr>\n",
              "    <tr>\n",
              "      <th>95</th>\n",
              "      <td>how many people can download the premiun seaso...</td>\n",
              "      <td>more than 20</td>\n",
              "      <td>[two, Only one. Choose between ps3 or ps4, in ...</td>\n",
              "    </tr>\n",
              "    <tr>\n",
              "      <th>99</th>\n",
              "      <td>are there any programmable buttons/does it com...</td>\n",
              "      <td>Venezuela</td>\n",
              "      <td>[No,there aren't,this mouse is plug and play, ...</td>\n",
              "    </tr>\n",
              "    <tr>\n",
              "      <th>101</th>\n",
              "      <td>is the LL have the same size of game cards as Xl?</td>\n",
              "      <td>two</td>\n",
              "      <td>[Yes, Yes. But the LL can only play games from...</td>\n",
              "    </tr>\n",
              "    <tr>\n",
              "      <th>108</th>\n",
              "      <td>is it region free?</td>\n",
              "      <td>It's region free</td>\n",
              "      <td>[It's the English version of the game. So, yes...</td>\n",
              "    </tr>\n",
              "    <tr>\n",
              "      <th>109</th>\n",
              "      <td>why teen</td>\n",
              "      <td>Its still really fun</td>\n",
              "      <td>[Why is this game rated \"T\" for Teen? I think ...</td>\n",
              "    </tr>\n",
              "    <tr>\n",
              "      <th>112</th>\n",
              "      <td>Hi,  is their is a batteries charge include or...</td>\n",
              "      <td>Please include the batteries for complete sati...</td>\n",
              "      <td>[You cannot charge the Game Boy Advance.  You ...</td>\n",
              "    </tr>\n",
              "    <tr>\n",
              "      <th>123</th>\n",
              "      <td>How long are the cables? I plan to game on the...</td>\n",
              "      <td>5 minutes</td>\n",
              "      <td>[I just stretched it across my room to measure...</td>\n",
              "    </tr>\n",
              "    <tr>\n",
              "      <th>131</th>\n",
              "      <td>What's the maximum dimensions for the console ...</td>\n",
              "      <td>6'3&amp;#34</td>\n",
              "      <td>[The Xbox 360 fits but its tight., The Xbox fi...</td>\n",
              "    </tr>\n",
              "    <tr>\n",
              "      <th>133</th>\n",
              "      <td>Is this game compatible with a United States m...</td>\n",
              "      <td>if you in the United States Don't buy this</td>\n",
              "      <td>[Yes sir it is :), Yes it is, yes it works, Ye...</td>\n",
              "    </tr>\n",
              "    <tr>\n",
              "      <th>145</th>\n",
              "      <td>What colour is the back light?</td>\n",
              "      <td>blue</td>\n",
              "      <td>[The only back light there is on this keyboard...</td>\n",
              "    </tr>\n",
              "    <tr>\n",
              "      <th>152</th>\n",
              "      <td>Mouse Freezes</td>\n",
              "      <td>AC</td>\n",
              "      <td>[Yes the mouse does freeze I bought two of the...</td>\n",
              "    </tr>\n",
              "    <tr>\n",
              "      <th>158</th>\n",
              "      <td>Is this a smaller version of the other Mad Cat...</td>\n",
              "      <td>If you use arcade sticks it doesn't support an...</td>\n",
              "      <td>[Hmm something is definitely not correct eithe...</td>\n",
              "    </tr>\n",
              "    <tr>\n",
              "      <th>...</th>\n",
              "      <td>...</td>\n",
              "      <td>...</td>\n",
              "      <td>...</td>\n",
              "    </tr>\n",
              "    <tr>\n",
              "      <th>622</th>\n",
              "      <td>New to all of this...can you use on PS3?</td>\n",
              "      <td>20 dollars brand new</td>\n",
              "      <td>[You have to have the game specific to your sy...</td>\n",
              "    </tr>\n",
              "    <tr>\n",
              "      <th>627</th>\n",
              "      <td>does it work for elite dangerous</td>\n",
              "      <td>This simply does not work</td>\n",
              "      <td>[Kind of. I really haven't played it in someti...</td>\n",
              "    </tr>\n",
              "    <tr>\n",
              "      <th>633</th>\n",
              "      <td>does this model have Megaman willey wars ?</td>\n",
              "      <td>it does not have backwards compatibility for P...</td>\n",
              "      <td>[It's not a built in game, no., No, unfortunat...</td>\n",
              "    </tr>\n",
              "    <tr>\n",
              "      <th>639</th>\n",
              "      <td>What is included in the box? Just DVDs? Thank ...</td>\n",
              "      <td>the adapter</td>\n",
              "      <td>[You get a full sized map of The Northern King...</td>\n",
              "    </tr>\n",
              "    <tr>\n",
              "      <th>642</th>\n",
              "      <td>SPECTEC SDIO WiFi and BlackJack II Compatibili...</td>\n",
              "      <td>NAVMAN pin 570 Windows 2003 pocket pc/GPS</td>\n",
              "      <td>[check here http://forums.wireless.att.com/t5/...</td>\n",
              "    </tr>\n",
              "    <tr>\n",
              "      <th>651</th>\n",
              "      <td>What 's the shipping weight of two units?</td>\n",
              "      <td>55 lbs</td>\n",
              "      <td>[About 5lb., 3 pounds]</td>\n",
              "    </tr>\n",
              "    <tr>\n",
              "      <th>652</th>\n",
              "      <td>What is the size (Length and Width)? I was won...</td>\n",
              "      <td>massive</td>\n",
              "      <td>[it is 8.5 inches by 20 inches, it fits on a s...</td>\n",
              "    </tr>\n",
              "    <tr>\n",
              "      <th>655</th>\n",
              "      <td>is thi compatible to windows 7 home premium</td>\n",
              "      <td>it will slow down your system I use Windows 7 ...</td>\n",
              "      <td>[No it is not based on my findings, because I ...</td>\n",
              "    </tr>\n",
              "    <tr>\n",
              "      <th>656</th>\n",
              "      <td>Can you play games off of the game cards witho...</td>\n",
              "      <td>you can't really play a game on your system wi...</td>\n",
              "      <td>[Nope, game won't start without a memory card,...</td>\n",
              "    </tr>\n",
              "    <tr>\n",
              "      <th>659</th>\n",
              "      <td>Will this load on Windows 7?</td>\n",
              "      <td>will not load on computer with windows 7</td>\n",
              "      <td>[You will need to download a DOS emulator to r...</td>\n",
              "    </tr>\n",
              "    <tr>\n",
              "      <th>661</th>\n",
              "      <td>Does this really work with OSX 10.9.5?  I boug...</td>\n",
              "      <td>They should have really have notice the confli...</td>\n",
              "      <td>[It works but I went from PC Hoyle to Mac and ...</td>\n",
              "    </tr>\n",
              "    <tr>\n",
              "      <th>663</th>\n",
              "      <td>Where do I enter the code it gives me?</td>\n",
              "      <td>under accountmanagement</td>\n",
              "      <td>[You need to dowlnoad a steam client and once ...</td>\n",
              "    </tr>\n",
              "    <tr>\n",
              "      <th>665</th>\n",
              "      <td>What is the difference between FIFA 14 and 201...</td>\n",
              "      <td>it certainly appears more dramatic having gone...</td>\n",
              "      <td>[I'm not sure because my kids don't have the 2...</td>\n",
              "    </tr>\n",
              "    <tr>\n",
              "      <th>668</th>\n",
              "      <td>Will it work for X42's?</td>\n",
              "      <td>It operates smoothly</td>\n",
              "      <td>[It should work as far as I know., Yes! For a ...</td>\n",
              "    </tr>\n",
              "    <tr>\n",
              "      <th>669</th>\n",
              "      <td>Does someone know if this video game come with...</td>\n",
              "      <td>If the kids are going to be playing video game...</td>\n",
              "      <td>[Yes, but this game is terrible, it is not lik...</td>\n",
              "    </tr>\n",
              "    <tr>\n",
              "      <th>672</th>\n",
              "      <td>How this year's version compare to the 2013 ve...</td>\n",
              "      <td>small</td>\n",
              "      <td>[This year's version is very similar to previo...</td>\n",
              "    </tr>\n",
              "    <tr>\n",
              "      <th>674</th>\n",
              "      <td>This doubles as a generic usb gamepad for acti...</td>\n",
              "      <td>yoke</td>\n",
              "      <td>[It comes with programmable software installed...</td>\n",
              "    </tr>\n",
              "    <tr>\n",
              "      <th>685</th>\n",
              "      <td>Compatible with Os X?</td>\n",
              "      <td>steam</td>\n",
              "      <td>[Of course.Any wired mouse is compatable with ...</td>\n",
              "    </tr>\n",
              "    <tr>\n",
              "      <th>691</th>\n",
              "      <td>Will these work with the ps4? If so, how do I ...</td>\n",
              "      <td>Just plug the headphones into the dual shock4 ...</td>\n",
              "      <td>[Technically, yes, and it is very simple to se...</td>\n",
              "    </tr>\n",
              "    <tr>\n",
              "      <th>698</th>\n",
              "      <td>Does this come with a booklet inside? I ask be...</td>\n",
              "      <td>Venezuela</td>\n",
              "      <td>[It comes with a club nintedo brochure and a p...</td>\n",
              "    </tr>\n",
              "    <tr>\n",
              "      <th>700</th>\n",
              "      <td>Direction of car can be controlled by motion o...</td>\n",
              "      <td>aircraft</td>\n",
              "      <td>[Do you mean the controller? No it is not cont...</td>\n",
              "    </tr>\n",
              "    <tr>\n",
              "      <th>712</th>\n",
              "      <td>Is it cordless?</td>\n",
              "      <td>This one, like most these days, is cordless. T...</td>\n",
              "      <td>[No, connected by USB cable., No: Connected th...</td>\n",
              "    </tr>\n",
              "    <tr>\n",
              "      <th>723</th>\n",
              "      <td>Does it have force feedback?</td>\n",
              "      <td>It lacks a force feedback function</td>\n",
              "      <td>[No force feedback. No Z axis for rudder contr...</td>\n",
              "    </tr>\n",
              "    <tr>\n",
              "      <th>725</th>\n",
              "      <td>5.1, 7.1, stereo?</td>\n",
              "      <td>Bose</td>\n",
              "      <td>[5.1 for the 2013 edition. Sounds really reall...</td>\n",
              "    </tr>\n",
              "    <tr>\n",
              "      <th>734</th>\n",
              "      <td>Is playing the game with the move controller a...</td>\n",
              "      <td>it is super entertaining and rewarding</td>\n",
              "      <td>[I don't recommend playing with a move control...</td>\n",
              "    </tr>\n",
              "    <tr>\n",
              "      <th>744</th>\n",
              "      <td>Dose it work with PS4 Thanks</td>\n",
              "      <td>dose not work</td>\n",
              "      <td>[Hi, I do not have a PS4 but from what I've re...</td>\n",
              "    </tr>\n",
              "    <tr>\n",
              "      <th>745</th>\n",
              "      <td>how to setup with pc? Is it simple or am I gon...</td>\n",
              "      <td>easy</td>\n",
              "      <td>[It comes with everything you need. Just follo...</td>\n",
              "    </tr>\n",
              "    <tr>\n",
              "      <th>760</th>\n",
              "      <td>Does this player have typical internet access ...</td>\n",
              "      <td>if (like me) you do not have 3G internet access</td>\n",
              "      <td>[why would you even ask this? it's a \"retro\" v...</td>\n",
              "    </tr>\n",
              "    <tr>\n",
              "      <th>768</th>\n",
              "      <td>Will this stand support the Saitek X55 Rhino</td>\n",
              "      <td>they won't support</td>\n",
              "      <td>[Wheel stand Pro can certainly support the Rhi...</td>\n",
              "    </tr>\n",
              "    <tr>\n",
              "      <th>769</th>\n",
              "      <td>Will this fit SCPH-70012 PS2 Slim models? Aski...</td>\n",
              "      <td>it has a sliding adjustable memory-card slot p...</td>\n",
              "      <td>[It works for me. As far as i know, all ps2's ...</td>\n",
              "    </tr>\n",
              "  </tbody>\n",
              "</table>\n",
              "<p>1546 rows × 3 columns</p>\n",
              "</div>"
            ],
            "text/plain": [
              "                                              question  ...                                             answer\n",
              "0    Will this mouse work with Windows 8.1? I have ...  ...  [Yes, it works without any problem... Tested f...\n",
              "5                    Does it work on laptops windows 8  ...  [Yes it does, I run it in Windows 8 myself. It...\n",
              "6    This item as a combo is $157.99. They are sepa...  ...  [Have the same question.  Even Best Buy has th...\n",
              "18   I am temporarily living in Europe. If I buy th...  ...  [Yes, in fact it's the only way to play on US ...\n",
              "25   Why is this game $67.99?? This game is 2.5 yea...  ...  [It's most likely because Nintendo is no longe...\n",
              "..                                                 ...  ...                                                ...\n",
              "744                       Dose it work with PS4 Thanks  ...  [Hi, I do not have a PS4 but from what I've re...\n",
              "745  how to setup with pc? Is it simple or am I gon...  ...  [It comes with everything you need. Just follo...\n",
              "760  Does this player have typical internet access ...  ...  [why would you even ask this? it's a \"retro\" v...\n",
              "768       Will this stand support the Saitek X55 Rhino  ...  [Wheel stand Pro can certainly support the Rhi...\n",
              "769  Will this fit SCPH-70012 PS2 Slim models? Aski...  ...  [It works for me. As far as i know, all ps2's ...\n",
              "\n",
              "[1546 rows x 3 columns]"
            ]
          },
          "metadata": {
            "tags": []
          },
          "execution_count": 10
        }
      ]
    },
    {
      "cell_type": "code",
      "metadata": {
        "id": "CTgcDxPLW5AM"
      },
      "source": [
        "def normalize_text(s):\n",
        "    \"\"\"Removing articles and punctuation, and standardizing whitespace are all typical text processing steps.\"\"\"\n",
        "    import string, re\n",
        "\n",
        "    def remove_articles(text):\n",
        "        regex = re.compile(r\"\\b(a|an|the)\\b\", re.UNICODE)\n",
        "        return re.sub(regex, \" \", text)\n",
        "\n",
        "    def white_space_fix(text):\n",
        "        return \" \".join(text.split())\n",
        "\n",
        "    def remove_punc(text):\n",
        "        exclude = set(string.punctuation)\n",
        "        return \"\".join(ch for ch in text if ch not in exclude)\n",
        "\n",
        "    def lower(text):\n",
        "        return text.lower()\n",
        "\n",
        "    return white_space_fix(remove_articles(remove_punc(lower(s))))\n",
        "\n",
        "def compute_exact_match(prediction, truth):\n",
        "    return int(normalize_text(prediction) == normalize_text(truth))\n",
        "\n",
        "def compute_f1(prediction, truth):\n",
        "    pred_tokens = normalize_text(prediction).split()\n",
        "    truth_tokens = normalize_text(truth).split()\n",
        "    \n",
        "    # if either the prediction or the truth is no-answer then f1 = 1 if they agree, 0 otherwise\n",
        "    if len(pred_tokens) == 0 or len(truth_tokens) == 0:\n",
        "        return int(pred_tokens == truth_tokens)\n",
        "    \n",
        "    common_tokens = set(pred_tokens) & set(truth_tokens)\n",
        "    \n",
        "    # if there are no common tokens then f1 = 0\n",
        "    if len(common_tokens) == 0:\n",
        "        return 0\n",
        "    \n",
        "    prec = len(common_tokens) / len(pred_tokens)\n",
        "    rec = len(common_tokens) / len(truth_tokens)\n",
        "    \n",
        "    return 2 * (prec * rec) / (prec + rec)"
      ],
      "execution_count": 11,
      "outputs": []
    },
    {
      "cell_type": "code",
      "metadata": {
        "colab": {
          "base_uri": "https://localhost:8080/"
        },
        "id": "v7njs4VhW6Ac",
        "outputId": "d14e93cc-b102-417e-bd8c-afd12b531d6a"
      },
      "source": [
        "# evaluation sample\n",
        "em_score = max((compute_exact_match(result.prediction[300], answer)) for answer in result.answer[300])\n",
        "f1_score = max((compute_f1(result.prediction[300], answer)) for answer in result.answer[300])\n",
        "\n",
        "print(f\"Question: {train_df.questionText[300]}\")\n",
        "print(f\"Prediction: {result.prediction[300]}\")\n",
        "print(f\"True Answers: {result.answer[300]}\")\n",
        "print(f\"EM: {em_score} \\t F1: {f1_score}\")"
      ],
      "execution_count": 12,
      "outputs": [
        {
          "output_type": "stream",
          "text": [
            "Question: A great game, especially the graphics. Does anybody else have blurry pictures in the strategy guide?\n",
            "Prediction: cycling race\n",
            "True Answers: ['No, my strategy guide does not have blurry pictures.', 'Its been a while since playing it but I had no trouble.  Great game.', \"I don't remember using the strategy guide. Sorry!\"]\n",
            "EM: 0 \t F1: 0\n"
          ],
          "name": "stdout"
        }
      ]
    },
    {
      "cell_type": "code",
      "metadata": {
        "colab": {
          "base_uri": "https://localhost:8080/"
        },
        "id": "zP_GbJWrKMX5",
        "outputId": "4ff556f2-c980-42be-cc73-afcd081e260b"
      },
      "source": [
        "# For colab users\n",
        "from google.colab import drive\n",
        "drive.mount('/content/drive')"
      ],
      "execution_count": 1,
      "outputs": [
        {
          "output_type": "stream",
          "text": [
            "Mounted at /content/drive\n"
          ],
          "name": "stdout"
        }
      ]
    },
    {
      "cell_type": "code",
      "metadata": {
        "id": "uNZYhxY-KcvM"
      },
      "source": [
        "result.to_csv('../content/drive/MyDrive/Colab Notebooks/result.csv')\n",
        "#'/content/drive/MyDrive/output.csv'"
      ],
      "execution_count": null,
      "outputs": []
    },
    {
      "cell_type": "code",
      "metadata": {
        "colab": {
          "base_uri": "https://localhost:8080/",
          "height": 521
        },
        "id": "PyzquWGCo1BT",
        "outputId": "0d5ab99a-ab9b-46c3-d1ce-47d3c51d4835"
      },
      "source": [
        "import pandas as pd\n",
        "\n",
        "result = pd.read_csv('/content/drive/MyDrive/output.csv', index_col='Unnamed: 0').reset_index(False)\n",
        "result"
      ],
      "execution_count": 2,
      "outputs": [
        {
          "output_type": "execute_result",
          "data": {
            "text/html": [
              "<div>\n",
              "<style scoped>\n",
              "    .dataframe tbody tr th:only-of-type {\n",
              "        vertical-align: middle;\n",
              "    }\n",
              "\n",
              "    .dataframe tbody tr th {\n",
              "        vertical-align: top;\n",
              "    }\n",
              "\n",
              "    .dataframe thead th {\n",
              "        text-align: right;\n",
              "    }\n",
              "</style>\n",
              "<table border=\"1\" class=\"dataframe\">\n",
              "  <thead>\n",
              "    <tr style=\"text-align: right;\">\n",
              "      <th></th>\n",
              "      <th>index</th>\n",
              "      <th>Baseline</th>\n",
              "      <th>Best Model</th>\n",
              "      <th>Human Answers</th>\n",
              "      <th>questions</th>\n",
              "    </tr>\n",
              "  </thead>\n",
              "  <tbody>\n",
              "    <tr>\n",
              "      <th>0</th>\n",
              "      <td>0</td>\n",
              "      <td>[\"yes don't say the xbox on my of solitaire . ...</td>\n",
              "      <td>[\"I would change my more on some good out afte...</td>\n",
              "      <td>['They are decent but you will not get surroun...</td>\n",
              "      <td>i know you should buy this with the mix amp fo...</td>\n",
              "    </tr>\n",
              "    <tr>\n",
              "      <th>1</th>\n",
              "      <td>1</td>\n",
              "      <td>['it .']</td>\n",
              "      <td>['3 off times controller']</td>\n",
              "      <td>['3', \"The way it's made it will work for both...</td>\n",
              "      <td>Is it a 2 or 3 pin fan controller?</td>\n",
              "    </tr>\n",
              "    <tr>\n",
              "      <th>2</th>\n",
              "      <td>2</td>\n",
              "      <td>['I have bought the game it it get the game pa...</td>\n",
              "      <td>[\"i just got this and then to get the own me o...</td>\n",
              "      <td>[\"Not it dosen't\", \"No, it doesn't. It is vali...</td>\n",
              "      <td>i wonder if the season pass got expired and ot...</td>\n",
              "    </tr>\n",
              "    <tr>\n",
              "      <th>3</th>\n",
              "      <td>3</td>\n",
              "      <td>['yes can play the the on the , but you carefu...</td>\n",
              "      <td>[\"sorry can at original it on 8 , but be very ...</td>\n",
              "      <td>['Steam activation codes and physical copies a...</td>\n",
              "      <td>If I don't have a disc drive and I get the dis...</td>\n",
              "    </tr>\n",
              "    <tr>\n",
              "      <th>4</th>\n",
              "      <td>4</td>\n",
              "      <td>['I no same problem as it it .']</td>\n",
              "      <td>['had the same button and go it . go to comput...</td>\n",
              "      <td>['It does, read the manual it comes with on in...</td>\n",
              "      <td>Why doesnt the LA mod work?</td>\n",
              "    </tr>\n",
              "    <tr>\n",
              "      <th>...</th>\n",
              "      <td>...</td>\n",
              "      <td>...</td>\n",
              "      <td>...</td>\n",
              "      <td>...</td>\n",
              "      <td>...</td>\n",
              "    </tr>\n",
              "    <tr>\n",
              "      <th>627</th>\n",
              "      <td>629</td>\n",
              "      <td>['no balance wii wii controller 3DS is with th...</td>\n",
              "      <td>['the original 7 system , which , in them , by...</td>\n",
              "      <td>[\"Only when you're playing it. Once it's in tu...</td>\n",
              "      <td>Does the game help you tune your guitar?</td>\n",
              "    </tr>\n",
              "    <tr>\n",
              "      <th>628</th>\n",
              "      <td>630</td>\n",
              "      <td>['yes , is']</td>\n",
              "      <td>['yes']</td>\n",
              "      <td>['Yes they are.', 'Yes they are.... I was goin...</td>\n",
              "      <td>Are these updated to the latest firmware befor...</td>\n",
              "    </tr>\n",
              "    <tr>\n",
              "      <th>629</th>\n",
              "      <td>631</td>\n",
              "      <td>['this is a . but mode , the multiplayer']</td>\n",
              "      <td>['it is both , 360 3 and online . . . . . ? fo...</td>\n",
              "      <td>['The Gamecube only supports AV cables. So if ...</td>\n",
              "      <td>Will this be able to hook up to an HDTV? Speci...</td>\n",
              "    </tr>\n",
              "    <tr>\n",
              "      <th>630</th>\n",
              "      <td>632</td>\n",
              "      <td>['it box is are are are are are are are are ar...</td>\n",
              "      <td>['hi']</td>\n",
              "      <td>['Yes', 'Yes you can it works great', 'Yes, wi...</td>\n",
              "      <td>Can I play this game on windows 8.1?</td>\n",
              "    </tr>\n",
              "    <tr>\n",
              "      <th>631</th>\n",
              "      <td>633</td>\n",
              "      <td>['yes is no a one same that . the . the game .']</td>\n",
              "      <td>['there is much only the one before of 360 in ...</td>\n",
              "      <td>['It is not and \"Only\" online game.  You may p...</td>\n",
              "      <td>is this a online game only or can be single pl...</td>\n",
              "    </tr>\n",
              "  </tbody>\n",
              "</table>\n",
              "<p>632 rows × 5 columns</p>\n",
              "</div>"
            ],
            "text/plain": [
              "     index  ...                                          questions\n",
              "0        0  ...  i know you should buy this with the mix amp fo...\n",
              "1        1  ...                 Is it a 2 or 3 pin fan controller?\n",
              "2        2  ...  i wonder if the season pass got expired and ot...\n",
              "3        3  ...  If I don't have a disc drive and I get the dis...\n",
              "4        4  ...                        Why doesnt the LA mod work?\n",
              "..     ...  ...                                                ...\n",
              "627    629  ...           Does the game help you tune your guitar?\n",
              "628    630  ...  Are these updated to the latest firmware befor...\n",
              "629    631  ...  Will this be able to hook up to an HDTV? Speci...\n",
              "630    632  ...               Can I play this game on windows 8.1?\n",
              "631    633  ...  is this a online game only or can be single pl...\n",
              "\n",
              "[632 rows x 5 columns]"
            ]
          },
          "metadata": {
            "tags": []
          },
          "execution_count": 2
        }
      ]
    },
    {
      "cell_type": "code",
      "metadata": {
        "colab": {
          "base_uri": "https://localhost:8080/"
        },
        "id": "jTTEHeiqAiOu",
        "outputId": "1ae0869c-c656-4a06-ee51-84aca30f61e2"
      },
      "source": [
        "em_scores = []\n",
        "f1_scores = []\n",
        "\n",
        "for i in range(len(result)):\n",
        "  answers = result['Human Answers']\n",
        "  predictions = result['Best Model']\n",
        "  em_scores.append(max((compute_exact_match(predictions[i], answer)) for answer in answers[i]))\n",
        "  f1_scores.append(max((compute_f1(predictions[i], answer)) for answer in answers[i]))\n",
        "\n",
        "print('Avg EM: {}'.format(sum(em_scores)/len(em_scores)))\n",
        "print('Avg F1: {}'.format(sum(f1_scores)/len(f1_scores)))"
      ],
      "execution_count": null,
      "outputs": [
        {
          "output_type": "stream",
          "text": [
            "Avg EM: 0.0\n",
            "Avg F1: 0.047967673252670415\n"
          ],
          "name": "stdout"
        }
      ]
    },
    {
      "cell_type": "code",
      "metadata": {
        "colab": {
          "base_uri": "https://localhost:8080/",
          "height": 71
        },
        "id": "PbFPWAa17I7u",
        "outputId": "aa984b20-f36c-44c7-ee66-0dd86e570e2b"
      },
      "source": [
        "result['Human Answers'][i]"
      ],
      "execution_count": null,
      "outputs": [
        {
          "output_type": "execute_result",
          "data": {
            "application/vnd.google.colaboratory.intrinsic+json": {
              "type": "string"
            },
            "text/plain": [
              "'[\"Because, as a quick google search reveals, it\\'s an xbox360 game released in 2007.\", \\'Technically James you are right that Lego Star Wars was originally for the original xbox, but they remade both the first and second games and combined them to get the game you see on this product.  Any other questions?\\', \"It\\'s an XBOX 360 game. This is not a mistake.\", \\'Yeah - I bought it as an xbox 360 game and have played it on my 360\\']'"
            ]
          },
          "metadata": {
            "tags": []
          },
          "execution_count": 100
        }
      ]
    },
    {
      "cell_type": "code",
      "metadata": {
        "colab": {
          "base_uri": "https://localhost:8080/"
        },
        "id": "ITifIpyP0HJg",
        "outputId": "12826bc5-696a-4099-f8c7-c77f76f01eed"
      },
      "source": [
        "import random\n",
        "\n",
        "i = random.randint(0,len(result))\n",
        "\n",
        "print('question: {}'.format(result['questions'][i]))\n",
        "print('answer: {}'.format(result['Human Answers'][i]))\n",
        "print('Baseline: {}'.format(result['Baseline'][i]))\n",
        "print('prediction: {}'.format(result['Best Model'][i]))"
      ],
      "execution_count": 9,
      "outputs": [
        {
          "output_type": "stream",
          "text": [
            "question: We don't have connect but I was thinking about getting this game for my son for his birthday. Can he still play with a regular controller?\n",
            "answer: ['Yes', 'Yes you can. Have fun!', 'yes you can play with a  regular controller.', 'My grandson plays it using a regular controller', 'Yes', 'Absolutely.']\n",
            "Baseline: ['yes . I , have are are have are are are are are are are are are are are are are are are are are are are are are are are are are are are are are are are are are are are are are are are are are are are are are are are are are are are are are are are are are are are are are are are are are are are are are are are are are are are are are are are are are are are are are are are are are are are are are']\n",
            "prediction: ['absolutely .']\n"
          ],
          "name": "stdout"
        }
      ]
    }
  ]
}